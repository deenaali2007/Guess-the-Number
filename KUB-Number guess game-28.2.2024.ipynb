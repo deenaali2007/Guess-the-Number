{
 "cells": [
  {
   "cell_type": "code",
   "execution_count": 1,
   "id": "a779b474",
   "metadata": {},
   "outputs": [
    {
     "name": "stdout",
     "output_type": "stream",
     "text": [
      "11\n"
     ]
    }
   ],
   "source": [
    "#1. generate a random secret number between 1 to 20\n",
    "import random\n",
    "secret_number=random.randint(1,20)\n",
    "print(secret_number)"
   ]
  },
  {
   "cell_type": "code",
   "execution_count": 2,
   "id": "ca8f6969",
   "metadata": {},
   "outputs": [
    {
     "name": "stdout",
     "output_type": "stream",
     "text": [
      "try again1\n",
      "low\n",
      "try again2\n",
      "low\n",
      "try again3\n",
      "low\n",
      "try again4\n",
      "low\n",
      "try again5\n",
      "low\n",
      "try again6\n",
      "low\n",
      "try again7\n",
      "low\n",
      "try again8\n",
      "low\n",
      "try again9\n",
      "low\n",
      "try again10\n",
      "low\n",
      "try again11\n",
      "❤️Congratulation❤️\n"
     ]
    }
   ],
   "source": [
    "### 2. Ask the user to guess the secret number\n",
    "\n",
    "user_input=\"\"\n",
    "while user_input!=secret_number:\n",
    "    user_input=int(input(\"try again\"))\n",
    "\n",
    "    if user_input<secret_number:\n",
    "        print(\"low\")\n",
    "    \n",
    "    elif user_input>secret_number:\n",
    "        print(\"high\")\n",
    "    else:\n",
    "        print(\"❤️Congratulation❤️\")\n",
    "   \n",
    "   "
   ]
  },
  {
   "cell_type": "code",
   "execution_count": null,
   "id": "e394dea0",
   "metadata": {},
   "outputs": [],
   "source": []
  },
  {
   "cell_type": "code",
   "execution_count": null,
   "id": "8788d21d",
   "metadata": {},
   "outputs": [],
   "source": []
  }
 ],
 "metadata": {
  "kernelspec": {
   "display_name": "Python 3 (ipykernel)",
   "language": "python",
   "name": "python3"
  },
  "language_info": {
   "codemirror_mode": {
    "name": "ipython",
    "version": 3
   },
   "file_extension": ".py",
   "mimetype": "text/x-python",
   "name": "python",
   "nbconvert_exporter": "python",
   "pygments_lexer": "ipython3",
   "version": "3.11.4"
  }
 },
 "nbformat": 4,
 "nbformat_minor": 5
}
